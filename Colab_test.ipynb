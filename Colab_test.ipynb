{
  "nbformat": 4,
  "nbformat_minor": 0,
  "metadata": {
    "colab": {
      "name": "Colab_test.ipynb",
      "provenance": []
    },
    "kernelspec": {
      "name": "python3",
      "display_name": "Python 3"
    },
    "language_info": {
      "name": "python"
    }
  },
  "cells": [
    {
      "cell_type": "markdown",
      "source": [
        "# Preparation\n",
        "\n",
        "Substitute the \"...\" in the cell below with your username!"
      ],
      "metadata": {
        "id": "Y09Bhupqk1BS"
      }
    },
    {
      "cell_type": "code",
      "execution_count": null,
      "metadata": {
        "id": "eEo3ortfkXIk"
      },
      "outputs": [],
      "source": [
        "!git clone https://github.com/.../DHLabVerona.git"
      ]
    },
    {
      "cell_type": "code",
      "source": [
        "%cd DHLabVerona/"
      ],
      "metadata": {
        "id": "pKVFdPE5kccp"
      },
      "execution_count": null,
      "outputs": []
    },
    {
      "cell_type": "code",
      "source": [
        "print(\"ciao\")"
      ],
      "metadata": {
        "colab": {
          "base_uri": "https://localhost:8080/"
        },
        "id": "jSSib3oHklSH",
        "outputId": "53032e1c-a3c9-4d88-8787-7609c61fcffb"
      },
      "execution_count": 3,
      "outputs": [
        {
          "output_type": "stream",
          "name": "stdout",
          "text": [
            "ciao\n"
          ]
        }
      ]
    }
  ]
}