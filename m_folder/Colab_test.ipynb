{
  "nbformat": 4,
  "nbformat_minor": 0,
  "metadata": {
    "colab": {
      "name": "Colab_test.ipynb",
      "provenance": []
    },
    "kernelspec": {
      "name": "python3",
      "display_name": "Python 3"
    },
    "language_info": {
      "name": "python"
    }
  },
  "cells": [
    {
      "cell_type": "markdown",
      "source": [
        "# Simple\n",
        "\n",
        "Substitute the \"...\" in the cell below with your username!"
      ],
      "metadata": {
        "id": "Y09Bhupqk1BS"
      }
    },
    {
      "cell_type": "code",
      "execution_count": null,
      "metadata": {
        "id": "eEo3ortfkXIk",
        "outputId": "30a2e252-c82d-42aa-f85c-e81269b1df24",
        "colab": {
          "base_uri": "https://localhost:8080/"
        }
      },
      "outputs": [
        {
          "output_type": "stream",
          "name": "stdout",
          "text": [
            "Cloning into 'test_repo'...\n",
            "remote: Enumerating objects: 26, done.\u001b[K\n",
            "remote: Counting objects: 100% (26/26), done.\u001b[K\n",
            "remote: Compressing objects: 100% (18/18), done.\u001b[K\n",
            "remote: Total 26 (delta 6), reused 11 (delta 2), pack-reused 0\u001b[K\n",
            "Unpacking objects: 100% (26/26), done.\n"
          ]
        }
      ],
      "source": [
        "!git clone https://github.com/SimoneRebora/test_repo.git"
      ]
    },
    {
      "cell_type": "code",
      "source": [
        "%cd test_repo"
      ],
      "metadata": {
        "id": "pKVFdPE5kccp",
        "outputId": "4fbbf130-c30c-497f-ae59-71f445dcdae6",
        "colab": {
          "base_uri": "https://localhost:8080/"
        }
      },
      "execution_count": null,
      "outputs": [
        {
          "output_type": "stream",
          "name": "stdout",
          "text": [
            "/content/test_repo\n"
          ]
        }
      ]
    },
    {
      "cell_type": "code",
      "source": [
        "print(\"ciao\")"
      ],
      "metadata": {
        "colab": {
          "base_uri": "https://localhost:8080/"
        },
        "id": "jSSib3oHklSH",
        "outputId": "e4ff974e-bb6d-43d6-ecb4-7f39bd34d881"
      },
      "execution_count": 14,
      "outputs": [
        {
          "output_type": "stream",
          "name": "stdout",
          "text": [
            "ciao\n"
          ]
        }
      ]
    },
    {
      "cell_type": "markdown",
      "source": [
        "# Complex"
      ],
      "metadata": {
        "id": "di4AloJQrDma"
      }
    },
    {
      "cell_type": "code",
      "source": [
        "!git clone https://<U_NAME>:<PERSONAL_ACCESS_TOKEN>@github.com/<U_NAME>/<REPO_NAME>"
      ],
      "metadata": {
        "id": "Ep3UsS-wqC1Y",
        "outputId": "6fbadd7d-1080-4dc3-e89d-4989a4e57ba4",
        "colab": {
          "base_uri": "https://localhost:8080/"
        }
      },
      "execution_count": 11,
      "outputs": [
        {
          "output_type": "stream",
          "name": "stdout",
          "text": [
            "Cloning into 'test_repo'...\n",
            "remote: Enumerating objects: 32, done.\u001b[K\n",
            "remote: Counting objects: 100% (32/32), done.\u001b[K\n",
            "remote: Compressing objects: 100% (23/23), done.\u001b[K\n",
            "Unpacking objects: 100% (32/32), done.\n",
            "remote: Total 32 (delta 9), reused 13 (delta 3), pack-reused 0\u001b[K\n"
          ]
        }
      ]
    },
    {
      "cell_type": "code",
      "source": [
        "%cd test_repo\n",
        "\n",
        "# add random file\n",
        "f = open(\"demofile2.txt\", \"a\")\n",
        "f.write(\"Now the file has more content!\")\n",
        "f.close()"
      ],
      "metadata": {
        "id": "YxfU2C99qQ2D",
        "outputId": "f500566c-8ceb-4611-f4de-8e57a0dbff47",
        "colab": {
          "base_uri": "https://localhost:8080/"
        }
      },
      "execution_count": 12,
      "outputs": [
        {
          "output_type": "stream",
          "name": "stdout",
          "text": [
            "/content/test_repo/test_repo\n"
          ]
        }
      ]
    },
    {
      "cell_type": "code",
      "source": [
        "# save added file to GitHub\n",
        "# but THIS file won't be saved\n",
        "# good, because inside of it you will have to insert your passwords\n",
        "\n",
        "!git config --global user.email \"my_email\"\n",
        "!git config --global user.name \"my_username\"\n",
        "\n",
        "\n",
        "!git add -A\n",
        "!git commit -m \"updates\"\n",
        "!git push origin main"
      ],
      "metadata": {
        "id": "5dKzS2jHmi-G",
        "outputId": "feb7944e-2a25-425b-b164-d6f739a7b7dd",
        "colab": {
          "base_uri": "https://localhost:8080/"
        }
      },
      "execution_count": 13,
      "outputs": [
        {
          "output_type": "stream",
          "name": "stdout",
          "text": [
            "[main d0fd520] updates\n",
            " 1 file changed, 1 insertion(+)\n",
            " create mode 100644 demofile2.txt\n",
            "Counting objects: 3, done.\n",
            "Delta compression using up to 2 threads.\n",
            "Compressing objects: 100% (2/2), done.\n",
            "Writing objects: 100% (3/3), 302 bytes | 302.00 KiB/s, done.\n",
            "Total 3 (delta 1), reused 0 (delta 0)\n",
            "remote: Resolving deltas: 100% (1/1), completed with 1 local object.\u001b[K\n",
            "To https://github.com/SimoneRebora/test_repo\n",
            "   025dc84..d0fd520  main -> main\n"
          ]
        }
      ]
    }
  ]
}